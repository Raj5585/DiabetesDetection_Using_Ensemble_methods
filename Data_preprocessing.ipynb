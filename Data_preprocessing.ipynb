{
 "cells": [
  {
   "cell_type": "code",
   "execution_count": 131,
   "id": "828b65fb",
   "metadata": {},
   "outputs": [],
   "source": [
    "import numpy as np\n",
    "import pandas as pd\n",
    "import matplotlib as plt\n",
    "import plotly.graph_objects as pltgraph"
   ]
  },
  {
   "cell_type": "code",
   "execution_count": 132,
   "id": "67ac0f03",
   "metadata": {},
   "outputs": [
    {
     "data": {
      "text/html": [
       "<div>\n",
       "<style scoped>\n",
       "    .dataframe tbody tr th:only-of-type {\n",
       "        vertical-align: middle;\n",
       "    }\n",
       "\n",
       "    .dataframe tbody tr th {\n",
       "        vertical-align: top;\n",
       "    }\n",
       "\n",
       "    .dataframe thead th {\n",
       "        text-align: right;\n",
       "    }\n",
       "</style>\n",
       "<table border=\"1\" class=\"dataframe\">\n",
       "  <thead>\n",
       "    <tr style=\"text-align: right;\">\n",
       "      <th></th>\n",
       "      <th>Pregnancies</th>\n",
       "      <th>Glucose</th>\n",
       "      <th>BloodPressure</th>\n",
       "      <th>SkinThickness</th>\n",
       "      <th>Insulin</th>\n",
       "      <th>BMI</th>\n",
       "      <th>DiabetesPedigreeFunction</th>\n",
       "      <th>Age</th>\n",
       "      <th>Outcome</th>\n",
       "    </tr>\n",
       "  </thead>\n",
       "  <tbody>\n",
       "    <tr>\n",
       "      <th>0</th>\n",
       "      <td>2</td>\n",
       "      <td>138</td>\n",
       "      <td>62</td>\n",
       "      <td>35</td>\n",
       "      <td>0</td>\n",
       "      <td>33.6</td>\n",
       "      <td>0.127</td>\n",
       "      <td>47</td>\n",
       "      <td>1</td>\n",
       "    </tr>\n",
       "    <tr>\n",
       "      <th>1</th>\n",
       "      <td>0</td>\n",
       "      <td>84</td>\n",
       "      <td>82</td>\n",
       "      <td>31</td>\n",
       "      <td>125</td>\n",
       "      <td>38.2</td>\n",
       "      <td>0.233</td>\n",
       "      <td>23</td>\n",
       "      <td>0</td>\n",
       "    </tr>\n",
       "    <tr>\n",
       "      <th>2</th>\n",
       "      <td>0</td>\n",
       "      <td>145</td>\n",
       "      <td>0</td>\n",
       "      <td>0</td>\n",
       "      <td>0</td>\n",
       "      <td>44.2</td>\n",
       "      <td>0.630</td>\n",
       "      <td>31</td>\n",
       "      <td>1</td>\n",
       "    </tr>\n",
       "    <tr>\n",
       "      <th>3</th>\n",
       "      <td>0</td>\n",
       "      <td>135</td>\n",
       "      <td>68</td>\n",
       "      <td>42</td>\n",
       "      <td>250</td>\n",
       "      <td>42.3</td>\n",
       "      <td>0.365</td>\n",
       "      <td>24</td>\n",
       "      <td>1</td>\n",
       "    </tr>\n",
       "    <tr>\n",
       "      <th>4</th>\n",
       "      <td>1</td>\n",
       "      <td>139</td>\n",
       "      <td>62</td>\n",
       "      <td>41</td>\n",
       "      <td>480</td>\n",
       "      <td>40.7</td>\n",
       "      <td>0.536</td>\n",
       "      <td>21</td>\n",
       "      <td>0</td>\n",
       "    </tr>\n",
       "  </tbody>\n",
       "</table>\n",
       "</div>"
      ],
      "text/plain": [
       "   Pregnancies  Glucose  BloodPressure  SkinThickness  Insulin   BMI  \\\n",
       "0            2      138             62             35        0  33.6   \n",
       "1            0       84             82             31      125  38.2   \n",
       "2            0      145              0              0        0  44.2   \n",
       "3            0      135             68             42      250  42.3   \n",
       "4            1      139             62             41      480  40.7   \n",
       "\n",
       "   DiabetesPedigreeFunction  Age  Outcome  \n",
       "0                     0.127   47        1  \n",
       "1                     0.233   23        0  \n",
       "2                     0.630   31        1  \n",
       "3                     0.365   24        1  \n",
       "4                     0.536   21        0  "
      ]
     },
     "execution_count": 132,
     "metadata": {},
     "output_type": "execute_result"
    }
   ],
   "source": [
    "datasets = pd.read_csv('main_dataset.csv')\n",
    "datasets.head()"
   ]
  },
  {
   "cell_type": "code",
   "execution_count": 133,
   "id": "7c53090c",
   "metadata": {},
   "outputs": [
    {
     "data": {
      "text/plain": [
       "<AxesSubplot:>"
      ]
     },
     "execution_count": 133,
     "metadata": {},
     "output_type": "execute_result"
    },
    {
     "data": {
      "image/png": "[encoded data removed]",
      "text/plain": [
       "<Figure size 432x288 with 1 Axes>"
      ]
     },
     "metadata": {
      "needs_background": "light"
     },
     "output_type": "display_data"
    }
   ],
   "source": [
    "datasets.boxplot()"
   ]
  },
  {
   "cell_type": "code",
   "execution_count": 134,
   "id": "ec392f2b",
   "metadata": {},
   "outputs": [
    {
     "data": {
      "text/html": [
       "<div>\n",
       "<style scoped>\n",
       "    .dataframe tbody tr th:only-of-type {\n",
       "        vertical-align: middle;\n",
       "    }\n",
       "\n",
       "    .dataframe tbody tr th {\n",
       "        vertical-align: top;\n",
       "    }\n",
       "\n",
       "    .dataframe thead th {\n",
       "        text-align: right;\n",
       "    }\n",
       "</style>\n",
       "<table border=\"1\" class=\"dataframe\">\n",
       "  <thead>\n",
       "    <tr style=\"text-align: right;\">\n",
       "      <th></th>\n",
       "      <th>Pregnancies</th>\n",
       "      <th>Glucose</th>\n",
       "      <th>BloodPressure</th>\n",
       "      <th>SkinThickness</th>\n",
       "      <th>Insulin</th>\n",
       "      <th>BMI</th>\n",
       "      <th>DiabetesPedigreeFunction</th>\n",
       "      <th>Age</th>\n",
       "      <th>Outcome</th>\n",
       "    </tr>\n",
       "  </thead>\n",
       "  <tbody>\n",
       "    <tr>\n",
       "      <th>Pregnancies</th>\n",
       "      <td>1.000000</td>\n",
       "      <td>0.122839</td>\n",
       "      <td>0.147253</td>\n",
       "      <td>-0.068673</td>\n",
       "      <td>-0.075734</td>\n",
       "      <td>0.018761</td>\n",
       "      <td>-0.027731</td>\n",
       "      <td>0.540805</td>\n",
       "      <td>0.223796</td>\n",
       "    </tr>\n",
       "    <tr>\n",
       "      <th>Glucose</th>\n",
       "      <td>0.122839</td>\n",
       "      <td>1.000000</td>\n",
       "      <td>0.142095</td>\n",
       "      <td>0.061023</td>\n",
       "      <td>0.323445</td>\n",
       "      <td>0.225308</td>\n",
       "      <td>0.127195</td>\n",
       "      <td>0.256958</td>\n",
       "      <td>0.460644</td>\n",
       "    </tr>\n",
       "    <tr>\n",
       "      <th>BloodPressure</th>\n",
       "      <td>0.147253</td>\n",
       "      <td>0.142095</td>\n",
       "      <td>1.000000</td>\n",
       "      <td>0.201167</td>\n",
       "      <td>0.087823</td>\n",
       "      <td>0.281560</td>\n",
       "      <td>0.048471</td>\n",
       "      <td>0.238684</td>\n",
       "      <td>0.072900</td>\n",
       "    </tr>\n",
       "    <tr>\n",
       "      <th>SkinThickness</th>\n",
       "      <td>-0.068673</td>\n",
       "      <td>0.061023</td>\n",
       "      <td>0.201167</td>\n",
       "      <td>1.000000</td>\n",
       "      <td>0.445345</td>\n",
       "      <td>0.393494</td>\n",
       "      <td>0.179830</td>\n",
       "      <td>-0.111895</td>\n",
       "      <td>0.075603</td>\n",
       "    </tr>\n",
       "    <tr>\n",
       "      <th>Insulin</th>\n",
       "      <td>-0.075734</td>\n",
       "      <td>0.323445</td>\n",
       "      <td>0.087823</td>\n",
       "      <td>0.445345</td>\n",
       "      <td>1.000000</td>\n",
       "      <td>0.215926</td>\n",
       "      <td>0.190500</td>\n",
       "      <td>-0.073458</td>\n",
       "      <td>0.123646</td>\n",
       "    </tr>\n",
       "    <tr>\n",
       "      <th>BMI</th>\n",
       "      <td>0.018761</td>\n",
       "      <td>0.225308</td>\n",
       "      <td>0.281560</td>\n",
       "      <td>0.393494</td>\n",
       "      <td>0.215926</td>\n",
       "      <td>1.000000</td>\n",
       "      <td>0.129766</td>\n",
       "      <td>0.038175</td>\n",
       "      <td>0.280928</td>\n",
       "    </tr>\n",
       "    <tr>\n",
       "      <th>DiabetesPedigreeFunction</th>\n",
       "      <td>-0.027731</td>\n",
       "      <td>0.127195</td>\n",
       "      <td>0.048471</td>\n",
       "      <td>0.179830</td>\n",
       "      <td>0.190500</td>\n",
       "      <td>0.129766</td>\n",
       "      <td>1.000000</td>\n",
       "      <td>0.028544</td>\n",
       "      <td>0.160664</td>\n",
       "    </tr>\n",
       "    <tr>\n",
       "      <th>Age</th>\n",
       "      <td>0.540805</td>\n",
       "      <td>0.256958</td>\n",
       "      <td>0.238684</td>\n",
       "      <td>-0.111895</td>\n",
       "      <td>-0.073458</td>\n",
       "      <td>0.038175</td>\n",
       "      <td>0.028544</td>\n",
       "      <td>1.000000</td>\n",
       "      <td>0.237050</td>\n",
       "    </tr>\n",
       "    <tr>\n",
       "      <th>Outcome</th>\n",
       "      <td>0.223796</td>\n",
       "      <td>0.460644</td>\n",
       "      <td>0.072900</td>\n",
       "      <td>0.075603</td>\n",
       "      <td>0.123646</td>\n",
       "      <td>0.280928</td>\n",
       "      <td>0.160664</td>\n",
       "      <td>0.237050</td>\n",
       "      <td>1.000000</td>\n",
       "    </tr>\n",
       "  </tbody>\n",
       "</table>\n",
       "</div>"
      ],
      "text/plain": [
       "                          Pregnancies   Glucose  BloodPressure  SkinThickness  \\\n",
       "Pregnancies                  1.000000  0.122839       0.147253      -0.068673   \n",
       "Glucose                      0.122839  1.000000       0.142095       0.061023   \n",
       "BloodPressure                0.147253  0.142095       1.000000       0.201167   \n",
       "SkinThickness               -0.068673  0.061023       0.201167       1.000000   \n",
       "Insulin                     -0.075734  0.323445       0.087823       0.445345   \n",
       "BMI                          0.018761  0.225308       0.281560       0.393494   \n",
       "DiabetesPedigreeFunction    -0.027731  0.127195       0.048471       0.179830   \n",
       "Age                          0.540805  0.256958       0.238684      -0.111895   \n",
       "Outcome                      0.223796  0.460644       0.072900       0.075603   \n",
       "\n",
       "                           Insulin       BMI  DiabetesPedigreeFunction  \\\n",
       "Pregnancies              -0.075734  0.018761                 -0.027731   \n",
       "Glucose                   0.323445  0.225308                  0.127195   \n",
       "BloodPressure             0.087823  0.281560                  0.048471   \n",
       "SkinThickness             0.445345  0.393494                  0.179830   \n",
       "Insulin                   1.000000  0.215926                  0.190500   \n",
       "BMI                       0.215926  1.000000                  0.129766   \n",
       "DiabetesPedigreeFunction  0.190500  0.129766                  1.000000   \n",
       "Age                      -0.073458  0.038175                  0.028544   \n",
       "Outcome                   0.123646  0.280928                  0.160664   \n",
       "\n",
       "                               Age   Outcome  \n",
       "Pregnancies               0.540805  0.223796  \n",
       "Glucose                   0.256958  0.460644  \n",
       "BloodPressure             0.238684  0.072900  \n",
       "SkinThickness            -0.111895  0.075603  \n",
       "Insulin                  -0.073458  0.123646  \n",
       "BMI                       0.038175  0.280928  \n",
       "DiabetesPedigreeFunction  0.028544  0.160664  \n",
       "Age                       1.000000  0.237050  \n",
       "Outcome                   0.237050  1.000000  "
      ]
     },
     "execution_count": 134,
     "metadata": {},
     "output_type": "execute_result"
    }
   ],
   "source": [
    "datasets.corr()"
   ]
  },
  {
   "cell_type": "code",
   "execution_count": 135,
   "id": "37e296c1",
   "metadata": {},
   "outputs": [
    {
     "data": {
      "text/plain": [
       "array([[<AxesSubplot:title={'center':'Pregnancies'}>,\n",
       "        <AxesSubplot:title={'center':'Glucose'}>,\n",
       "        <AxesSubplot:title={'center':'BloodPressure'}>],\n",
       "       [<AxesSubplot:title={'center':'SkinThickness'}>,\n",
       "        <AxesSubplot:title={'center':'Insulin'}>,\n",
       "        <AxesSubplot:title={'center':'BMI'}>],\n",
       "       [<AxesSubplot:title={'center':'DiabetesPedigreeFunction'}>,\n",
       "        <AxesSubplot:title={'center':'Age'}>,\n",
       "        <AxesSubplot:title={'center':'Outcome'}>]], dtype=object)"
      ]
     },
     "execution_count": 135,
     "metadata": {},
     "output_type": "execute_result"
    },
    {
     "data": {
      "image/png": "[encoded data removed]",
      "text/plain": [
       "<Figure size 1440x1080 with 9 Axes>"
      ]
     },
     "metadata": {
      "needs_background": "light"
     },
     "output_type": "display_data"
    }
   ],
   "source": [
    "datasets.hist(bins=50,figsize = (20,15))"
   ]
  },
  {
   "cell_type": "code",
   "execution_count": 136,
   "id": "78dc6a17",
   "metadata": {},
   "outputs": [
    {
     "data": {
      "text/html": [
       "<div>\n",
       "<style scoped>\n",
       "    .dataframe tbody tr th:only-of-type {\n",
       "        vertical-align: middle;\n",
       "    }\n",
       "\n",
       "    .dataframe tbody tr th {\n",
       "        vertical-align: top;\n",
       "    }\n",
       "\n",
       "    .dataframe thead th {\n",
       "        text-align: right;\n",
       "    }\n",
       "</style>\n",
       "<table border=\"1\" class=\"dataframe\">\n",
       "  <thead>\n",
       "    <tr style=\"text-align: right;\">\n",
       "      <th></th>\n",
       "      <th>Glucose</th>\n",
       "      <th>BloodPressure</th>\n",
       "      <th>SkinThickness</th>\n",
       "      <th>Insulin</th>\n",
       "      <th>BMI</th>\n",
       "      <th>DiabetesPedigreeFunction</th>\n",
       "      <th>Age</th>\n",
       "    </tr>\n",
       "  </thead>\n",
       "  <tbody>\n",
       "    <tr>\n",
       "      <th>0</th>\n",
       "      <td>138</td>\n",
       "      <td>62</td>\n",
       "      <td>35</td>\n",
       "      <td>0</td>\n",
       "      <td>33.6</td>\n",
       "      <td>0.127</td>\n",
       "      <td>47</td>\n",
       "    </tr>\n",
       "    <tr>\n",
       "      <th>1</th>\n",
       "      <td>84</td>\n",
       "      <td>82</td>\n",
       "      <td>31</td>\n",
       "      <td>125</td>\n",
       "      <td>38.2</td>\n",
       "      <td>0.233</td>\n",
       "      <td>23</td>\n",
       "    </tr>\n",
       "    <tr>\n",
       "      <th>2</th>\n",
       "      <td>145</td>\n",
       "      <td>0</td>\n",
       "      <td>0</td>\n",
       "      <td>0</td>\n",
       "      <td>44.2</td>\n",
       "      <td>0.630</td>\n",
       "      <td>31</td>\n",
       "    </tr>\n",
       "    <tr>\n",
       "      <th>3</th>\n",
       "      <td>135</td>\n",
       "      <td>68</td>\n",
       "      <td>42</td>\n",
       "      <td>250</td>\n",
       "      <td>42.3</td>\n",
       "      <td>0.365</td>\n",
       "      <td>24</td>\n",
       "    </tr>\n",
       "    <tr>\n",
       "      <th>4</th>\n",
       "      <td>139</td>\n",
       "      <td>62</td>\n",
       "      <td>41</td>\n",
       "      <td>480</td>\n",
       "      <td>40.7</td>\n",
       "      <td>0.536</td>\n",
       "      <td>21</td>\n",
       "    </tr>\n",
       "  </tbody>\n",
       "</table>\n",
       "</div>"
      ],
      "text/plain": [
       "   Glucose  BloodPressure  SkinThickness  Insulin   BMI  \\\n",
       "0      138             62             35        0  33.6   \n",
       "1       84             82             31      125  38.2   \n",
       "2      145              0              0        0  44.2   \n",
       "3      135             68             42      250  42.3   \n",
       "4      139             62             41      480  40.7   \n",
       "\n",
       "   DiabetesPedigreeFunction  Age  \n",
       "0                     0.127   47  \n",
       "1                     0.233   23  \n",
       "2                     0.630   31  \n",
       "3                     0.365   24  \n",
       "4                     0.536   21  "
      ]
     },
     "execution_count": 136,
     "metadata": {},
     "output_type": "execute_result"
    }
   ],
   "source": [
    "dwp = datasets.drop(['Pregnancies', 'Outcome'], axis= 'columns')\n",
    "dwp.head()"
   ]
  },
  {
   "cell_type": "code",
   "execution_count": 137,
   "id": "d2651194",
   "metadata": {},
   "outputs": [
    {
     "data": {
      "text/html": [
       "<div>\n",
       "<style scoped>\n",
       "    .dataframe tbody tr th:only-of-type {\n",
       "        vertical-align: middle;\n",
       "    }\n",
       "\n",
       "    .dataframe tbody tr th {\n",
       "        vertical-align: top;\n",
       "    }\n",
       "\n",
       "    .dataframe thead th {\n",
       "        text-align: right;\n",
       "    }\n",
       "</style>\n",
       "<table border=\"1\" class=\"dataframe\">\n",
       "  <thead>\n",
       "    <tr style=\"text-align: right;\">\n",
       "      <th></th>\n",
       "      <th>Glucose</th>\n",
       "      <th>BloodPressure</th>\n",
       "      <th>SkinThickness</th>\n",
       "      <th>Insulin</th>\n",
       "      <th>BMI</th>\n",
       "      <th>DiabetesPedigreeFunction</th>\n",
       "      <th>Age</th>\n",
       "    </tr>\n",
       "  </thead>\n",
       "  <tbody>\n",
       "    <tr>\n",
       "      <th>0</th>\n",
       "      <td>138.0</td>\n",
       "      <td>62.000000</td>\n",
       "      <td>35.000000</td>\n",
       "      <td>80.12789</td>\n",
       "      <td>33.600000</td>\n",
       "      <td>0.127</td>\n",
       "      <td>47</td>\n",
       "    </tr>\n",
       "    <tr>\n",
       "      <th>1</th>\n",
       "      <td>84.0</td>\n",
       "      <td>82.000000</td>\n",
       "      <td>31.000000</td>\n",
       "      <td>125.00000</td>\n",
       "      <td>38.200000</td>\n",
       "      <td>0.233</td>\n",
       "      <td>23</td>\n",
       "    </tr>\n",
       "    <tr>\n",
       "      <th>2</th>\n",
       "      <td>145.0</td>\n",
       "      <td>69.134393</td>\n",
       "      <td>20.824422</td>\n",
       "      <td>80.12789</td>\n",
       "      <td>44.200000</td>\n",
       "      <td>0.630</td>\n",
       "      <td>31</td>\n",
       "    </tr>\n",
       "    <tr>\n",
       "      <th>3</th>\n",
       "      <td>135.0</td>\n",
       "      <td>68.000000</td>\n",
       "      <td>42.000000</td>\n",
       "      <td>250.00000</td>\n",
       "      <td>42.300000</td>\n",
       "      <td>0.365</td>\n",
       "      <td>24</td>\n",
       "    </tr>\n",
       "    <tr>\n",
       "      <th>4</th>\n",
       "      <td>139.0</td>\n",
       "      <td>62.000000</td>\n",
       "      <td>41.000000</td>\n",
       "      <td>480.00000</td>\n",
       "      <td>40.700000</td>\n",
       "      <td>0.536</td>\n",
       "      <td>21</td>\n",
       "    </tr>\n",
       "    <tr>\n",
       "      <th>5</th>\n",
       "      <td>173.0</td>\n",
       "      <td>78.000000</td>\n",
       "      <td>32.000000</td>\n",
       "      <td>265.00000</td>\n",
       "      <td>46.500000</td>\n",
       "      <td>1.159</td>\n",
       "      <td>58</td>\n",
       "    </tr>\n",
       "    <tr>\n",
       "      <th>6</th>\n",
       "      <td>99.0</td>\n",
       "      <td>72.000000</td>\n",
       "      <td>17.000000</td>\n",
       "      <td>80.12789</td>\n",
       "      <td>25.600000</td>\n",
       "      <td>0.294</td>\n",
       "      <td>28</td>\n",
       "    </tr>\n",
       "    <tr>\n",
       "      <th>7</th>\n",
       "      <td>194.0</td>\n",
       "      <td>80.000000</td>\n",
       "      <td>20.824422</td>\n",
       "      <td>80.12789</td>\n",
       "      <td>26.100000</td>\n",
       "      <td>0.551</td>\n",
       "      <td>67</td>\n",
       "    </tr>\n",
       "    <tr>\n",
       "      <th>8</th>\n",
       "      <td>83.0</td>\n",
       "      <td>65.000000</td>\n",
       "      <td>28.000000</td>\n",
       "      <td>66.00000</td>\n",
       "      <td>36.800000</td>\n",
       "      <td>0.629</td>\n",
       "      <td>24</td>\n",
       "    </tr>\n",
       "    <tr>\n",
       "      <th>9</th>\n",
       "      <td>89.0</td>\n",
       "      <td>90.000000</td>\n",
       "      <td>30.000000</td>\n",
       "      <td>80.12789</td>\n",
       "      <td>33.500000</td>\n",
       "      <td>0.292</td>\n",
       "      <td>42</td>\n",
       "    </tr>\n",
       "    <tr>\n",
       "      <th>10</th>\n",
       "      <td>99.0</td>\n",
       "      <td>68.000000</td>\n",
       "      <td>38.000000</td>\n",
       "      <td>80.12789</td>\n",
       "      <td>32.800000</td>\n",
       "      <td>0.145</td>\n",
       "      <td>33</td>\n",
       "    </tr>\n",
       "    <tr>\n",
       "      <th>11</th>\n",
       "      <td>125.0</td>\n",
       "      <td>70.000000</td>\n",
       "      <td>18.000000</td>\n",
       "      <td>122.00000</td>\n",
       "      <td>28.900000</td>\n",
       "      <td>1.144</td>\n",
       "      <td>45</td>\n",
       "    </tr>\n",
       "    <tr>\n",
       "      <th>12</th>\n",
       "      <td>80.0</td>\n",
       "      <td>69.134393</td>\n",
       "      <td>20.824422</td>\n",
       "      <td>80.12789</td>\n",
       "      <td>32.137392</td>\n",
       "      <td>0.174</td>\n",
       "      <td>22</td>\n",
       "    </tr>\n",
       "    <tr>\n",
       "      <th>13</th>\n",
       "      <td>166.0</td>\n",
       "      <td>74.000000</td>\n",
       "      <td>20.824422</td>\n",
       "      <td>80.12789</td>\n",
       "      <td>26.600000</td>\n",
       "      <td>0.304</td>\n",
       "      <td>66</td>\n",
       "    </tr>\n",
       "    <tr>\n",
       "      <th>14</th>\n",
       "      <td>110.0</td>\n",
       "      <td>68.000000</td>\n",
       "      <td>20.824422</td>\n",
       "      <td>80.12789</td>\n",
       "      <td>26.000000</td>\n",
       "      <td>0.292</td>\n",
       "      <td>30</td>\n",
       "    </tr>\n",
       "  </tbody>\n",
       "</table>\n",
       "</div>"
      ],
      "text/plain": [
       "    Glucose  BloodPressure  SkinThickness    Insulin        BMI  \\\n",
       "0     138.0      62.000000      35.000000   80.12789  33.600000   \n",
       "1      84.0      82.000000      31.000000  125.00000  38.200000   \n",
       "2     145.0      69.134393      20.824422   80.12789  44.200000   \n",
       "3     135.0      68.000000      42.000000  250.00000  42.300000   \n",
       "4     139.0      62.000000      41.000000  480.00000  40.700000   \n",
       "5     173.0      78.000000      32.000000  265.00000  46.500000   \n",
       "6      99.0      72.000000      17.000000   80.12789  25.600000   \n",
       "7     194.0      80.000000      20.824422   80.12789  26.100000   \n",
       "8      83.0      65.000000      28.000000   66.00000  36.800000   \n",
       "9      89.0      90.000000      30.000000   80.12789  33.500000   \n",
       "10     99.0      68.000000      38.000000   80.12789  32.800000   \n",
       "11    125.0      70.000000      18.000000  122.00000  28.900000   \n",
       "12     80.0      69.134393      20.824422   80.12789  32.137392   \n",
       "13    166.0      74.000000      20.824422   80.12789  26.600000   \n",
       "14    110.0      68.000000      20.824422   80.12789  26.000000   \n",
       "\n",
       "    DiabetesPedigreeFunction  Age  \n",
       "0                      0.127   47  \n",
       "1                      0.233   23  \n",
       "2                      0.630   31  \n",
       "3                      0.365   24  \n",
       "4                      0.536   21  \n",
       "5                      1.159   58  \n",
       "6                      0.294   28  \n",
       "7                      0.551   67  \n",
       "8                      0.629   24  \n",
       "9                      0.292   42  \n",
       "10                     0.145   33  \n",
       "11                     1.144   45  \n",
       "12                     0.174   22  \n",
       "13                     0.304   66  \n",
       "14                     0.292   30  "
      ]
     },
     "execution_count": 137,
     "metadata": {},
     "output_type": "execute_result"
    }
   ],
   "source": [
    "dwp = dwp.replace(0,dwp.mean())\n",
    "dwp.head(15)"
   ]
  },
  {
   "cell_type": "code",
   "execution_count": 138,
   "id": "c20f2ac6",
   "metadata": {},
   "outputs": [
    {
     "data": {
      "text/plain": [
       "array([[<AxesSubplot:title={'center':'Glucose'}>,\n",
       "        <AxesSubplot:title={'center':'BloodPressure'}>,\n",
       "        <AxesSubplot:title={'center':'SkinThickness'}>],\n",
       "       [<AxesSubplot:title={'center':'Insulin'}>,\n",
       "        <AxesSubplot:title={'center':'BMI'}>,\n",
       "        <AxesSubplot:title={'center':'DiabetesPedigreeFunction'}>],\n",
       "       [<AxesSubplot:title={'center':'Age'}>, <AxesSubplot:>,\n",
       "        <AxesSubplot:>]], dtype=object)"
      ]
     },
     "execution_count": 138,
     "metadata": {},
     "output_type": "execute_result"
    },
    {
     "data": {
      "image/png": "[encoded data removed]",
      "text/plain": [
       "<Figure size 1440x1080 with 9 Axes>"
      ]
     },
     "metadata": {
      "needs_background": "light"
     },
     "output_type": "display_data"
    }
   ],
   "source": [
    "dwp.hist(bins=50,figsize = (20,15))"
   ]
  },
  {
   "cell_type": "code",
   "execution_count": 139,
   "id": "572f3bf9",
   "metadata": {},
   "outputs": [
    {
     "data": {
      "text/html": [
       "<div>\n",
       "<style scoped>\n",
       "    .dataframe tbody tr th:only-of-type {\n",
       "        vertical-align: middle;\n",
       "    }\n",
       "\n",
       "    .dataframe tbody tr th {\n",
       "        vertical-align: top;\n",
       "    }\n",
       "\n",
       "    .dataframe thead th {\n",
       "        text-align: right;\n",
       "    }\n",
       "</style>\n",
       "<table border=\"1\" class=\"dataframe\">\n",
       "  <thead>\n",
       "    <tr style=\"text-align: right;\">\n",
       "      <th></th>\n",
       "      <th>Glucose</th>\n",
       "      <th>BloodPressure</th>\n",
       "      <th>SkinThickness</th>\n",
       "      <th>Insulin</th>\n",
       "      <th>BMI</th>\n",
       "      <th>DiabetesPedigreeFunction</th>\n",
       "      <th>Age</th>\n",
       "    </tr>\n",
       "  </thead>\n",
       "  <tbody>\n",
       "    <tr>\n",
       "      <th>count</th>\n",
       "      <td>2768.000000</td>\n",
       "      <td>2768.000000</td>\n",
       "      <td>2768.000000</td>\n",
       "      <td>2768.000000</td>\n",
       "      <td>2768.000000</td>\n",
       "      <td>2768.000000</td>\n",
       "      <td>2768.000000</td>\n",
       "    </tr>\n",
       "    <tr>\n",
       "      <th>mean</th>\n",
       "      <td>121.890118</td>\n",
       "      <td>72.256430</td>\n",
       "      <td>26.843041</td>\n",
       "      <td>118.628647</td>\n",
       "      <td>32.590194</td>\n",
       "      <td>0.471193</td>\n",
       "      <td>33.132225</td>\n",
       "    </tr>\n",
       "    <tr>\n",
       "      <th>std</th>\n",
       "      <td>30.501027</td>\n",
       "      <td>12.007473</td>\n",
       "      <td>9.812960</td>\n",
       "      <td>89.681553</td>\n",
       "      <td>7.103630</td>\n",
       "      <td>0.325669</td>\n",
       "      <td>11.777230</td>\n",
       "    </tr>\n",
       "    <tr>\n",
       "      <th>min</th>\n",
       "      <td>44.000000</td>\n",
       "      <td>24.000000</td>\n",
       "      <td>7.000000</td>\n",
       "      <td>14.000000</td>\n",
       "      <td>18.200000</td>\n",
       "      <td>0.078000</td>\n",
       "      <td>21.000000</td>\n",
       "    </tr>\n",
       "    <tr>\n",
       "      <th>25%</th>\n",
       "      <td>99.000000</td>\n",
       "      <td>64.000000</td>\n",
       "      <td>20.824422</td>\n",
       "      <td>80.127890</td>\n",
       "      <td>27.575000</td>\n",
       "      <td>0.244000</td>\n",
       "      <td>24.000000</td>\n",
       "    </tr>\n",
       "    <tr>\n",
       "      <th>50%</th>\n",
       "      <td>118.000000</td>\n",
       "      <td>72.000000</td>\n",
       "      <td>23.000000</td>\n",
       "      <td>80.127890</td>\n",
       "      <td>32.200000</td>\n",
       "      <td>0.375000</td>\n",
       "      <td>29.000000</td>\n",
       "    </tr>\n",
       "    <tr>\n",
       "      <th>75%</th>\n",
       "      <td>141.000000</td>\n",
       "      <td>80.000000</td>\n",
       "      <td>32.000000</td>\n",
       "      <td>130.000000</td>\n",
       "      <td>36.625000</td>\n",
       "      <td>0.624000</td>\n",
       "      <td>40.000000</td>\n",
       "    </tr>\n",
       "    <tr>\n",
       "      <th>max</th>\n",
       "      <td>199.000000</td>\n",
       "      <td>122.000000</td>\n",
       "      <td>110.000000</td>\n",
       "      <td>846.000000</td>\n",
       "      <td>80.600000</td>\n",
       "      <td>2.420000</td>\n",
       "      <td>81.000000</td>\n",
       "    </tr>\n",
       "  </tbody>\n",
       "</table>\n",
       "</div>"
      ],
      "text/plain": [
       "           Glucose  BloodPressure  SkinThickness      Insulin          BMI  \\\n",
       "count  2768.000000    2768.000000    2768.000000  2768.000000  2768.000000   \n",
       "mean    121.890118      72.256430      26.843041   118.628647    32.590194   \n",
       "std      30.501027      12.007473       9.812960    89.681553     7.103630   \n",
       "min      44.000000      24.000000       7.000000    14.000000    18.200000   \n",
       "25%      99.000000      64.000000      20.824422    80.127890    27.575000   \n",
       "50%     118.000000      72.000000      23.000000    80.127890    32.200000   \n",
       "75%     141.000000      80.000000      32.000000   130.000000    36.625000   \n",
       "max     199.000000     122.000000     110.000000   846.000000    80.600000   \n",
       "\n",
       "       DiabetesPedigreeFunction          Age  \n",
       "count               2768.000000  2768.000000  \n",
       "mean                   0.471193    33.132225  \n",
       "std                    0.325669    11.777230  \n",
       "min                    0.078000    21.000000  \n",
       "25%                    0.244000    24.000000  \n",
       "50%                    0.375000    29.000000  \n",
       "75%                    0.624000    40.000000  \n",
       "max                    2.420000    81.000000  "
      ]
     },
     "execution_count": 139,
     "metadata": {},
     "output_type": "execute_result"
    }
   ],
   "source": [
    "dwp.describe()"
   ]
  },
  {
   "cell_type": "code",
   "execution_count": 140,
   "id": "45d47bd2",
   "metadata": {},
   "outputs": [
    {
     "data": {
      "text/plain": [
       "<AxesSubplot:>"
      ]
     },
     "execution_count": 140,
     "metadata": {},
     "output_type": "execute_result"
    },
    {
     "data": {
      "image/png": "[encoded data removed]",
      "text/plain": [
       "<Figure size 432x288 with 1 Axes>"
      ]
     },
     "metadata": {
      "needs_background": "light"
     },
     "output_type": "display_data"
    }
   ],
   "source": [
    "dwp.boxplot()"
   ]
  },
  {
   "cell_type": "code",
   "execution_count": 197,
   "id": "a5507938",
   "metadata": {},
   "outputs": [
    {
     "data": {
      "text/html": [
       "<div>\n",
       "<style scoped>\n",
       "    .dataframe tbody tr th:only-of-type {\n",
       "        vertical-align: middle;\n",
       "    }\n",
       "\n",
       "    .dataframe tbody tr th {\n",
       "        vertical-align: top;\n",
       "    }\n",
       "\n",
       "    .dataframe thead th {\n",
       "        text-align: right;\n",
       "    }\n",
       "</style>\n",
       "<table border=\"1\" class=\"dataframe\">\n",
       "  <thead>\n",
       "    <tr style=\"text-align: right;\">\n",
       "      <th></th>\n",
       "      <th>pregnancies</th>\n",
       "    </tr>\n",
       "  </thead>\n",
       "  <tbody>\n",
       "    <tr>\n",
       "      <th>count</th>\n",
       "      <td>2768.000000</td>\n",
       "    </tr>\n",
       "    <tr>\n",
       "      <th>mean</th>\n",
       "      <td>3.742775</td>\n",
       "    </tr>\n",
       "    <tr>\n",
       "      <th>std</th>\n",
       "      <td>3.323801</td>\n",
       "    </tr>\n",
       "    <tr>\n",
       "      <th>min</th>\n",
       "      <td>0.000000</td>\n",
       "    </tr>\n",
       "    <tr>\n",
       "      <th>25%</th>\n",
       "      <td>1.000000</td>\n",
       "    </tr>\n",
       "    <tr>\n",
       "      <th>50%</th>\n",
       "      <td>3.000000</td>\n",
       "    </tr>\n",
       "    <tr>\n",
       "      <th>75%</th>\n",
       "      <td>6.000000</td>\n",
       "    </tr>\n",
       "    <tr>\n",
       "      <th>max</th>\n",
       "      <td>17.000000</td>\n",
       "    </tr>\n",
       "  </tbody>\n",
       "</table>\n",
       "</div>"
      ],
      "text/plain": [
       "       pregnancies\n",
       "count  2768.000000\n",
       "mean      3.742775\n",
       "std       3.323801\n",
       "min       0.000000\n",
       "25%       1.000000\n",
       "50%       3.000000\n",
       "75%       6.000000\n",
       "max      17.000000"
      ]
     },
     "execution_count": 197,
     "metadata": {},
     "output_type": "execute_result"
    }
   ],
   "source": [
    "df = pd.DataFrame()\n",
    "df['pregnancies'] = datasets['Pregnancies']\n",
    "df.describe()"
   ]
  },
  {
   "cell_type": "code",
   "execution_count": 142,
   "id": "8059a4e9",
   "metadata": {},
   "outputs": [
    {
     "data": {
      "text/html": [
       "<div>\n",
       "<style scoped>\n",
       "    .dataframe tbody tr th:only-of-type {\n",
       "        vertical-align: middle;\n",
       "    }\n",
       "\n",
       "    .dataframe tbody tr th {\n",
       "        vertical-align: top;\n",
       "    }\n",
       "\n",
       "    .dataframe thead th {\n",
       "        text-align: right;\n",
       "    }\n",
       "</style>\n",
       "<table border=\"1\" class=\"dataframe\">\n",
       "  <thead>\n",
       "    <tr style=\"text-align: right;\">\n",
       "      <th></th>\n",
       "      <th>Glucose</th>\n",
       "      <th>BloodPressure</th>\n",
       "      <th>SkinThickness</th>\n",
       "      <th>Insulin</th>\n",
       "      <th>BMI</th>\n",
       "      <th>DiabetesPedigreeFunction</th>\n",
       "      <th>Age</th>\n",
       "      <th>Pregnancies</th>\n",
       "    </tr>\n",
       "  </thead>\n",
       "  <tbody>\n",
       "    <tr>\n",
       "      <th>0</th>\n",
       "      <td>138.0</td>\n",
       "      <td>62.000000</td>\n",
       "      <td>35.000000</td>\n",
       "      <td>80.12789</td>\n",
       "      <td>33.6</td>\n",
       "      <td>0.127</td>\n",
       "      <td>47</td>\n",
       "      <td>2</td>\n",
       "    </tr>\n",
       "    <tr>\n",
       "      <th>1</th>\n",
       "      <td>84.0</td>\n",
       "      <td>82.000000</td>\n",
       "      <td>31.000000</td>\n",
       "      <td>125.00000</td>\n",
       "      <td>38.2</td>\n",
       "      <td>0.233</td>\n",
       "      <td>23</td>\n",
       "      <td>0</td>\n",
       "    </tr>\n",
       "    <tr>\n",
       "      <th>2</th>\n",
       "      <td>145.0</td>\n",
       "      <td>69.134393</td>\n",
       "      <td>20.824422</td>\n",
       "      <td>80.12789</td>\n",
       "      <td>44.2</td>\n",
       "      <td>0.630</td>\n",
       "      <td>31</td>\n",
       "      <td>0</td>\n",
       "    </tr>\n",
       "    <tr>\n",
       "      <th>3</th>\n",
       "      <td>135.0</td>\n",
       "      <td>68.000000</td>\n",
       "      <td>42.000000</td>\n",
       "      <td>250.00000</td>\n",
       "      <td>42.3</td>\n",
       "      <td>0.365</td>\n",
       "      <td>24</td>\n",
       "      <td>0</td>\n",
       "    </tr>\n",
       "    <tr>\n",
       "      <th>4</th>\n",
       "      <td>139.0</td>\n",
       "      <td>62.000000</td>\n",
       "      <td>41.000000</td>\n",
       "      <td>480.00000</td>\n",
       "      <td>40.7</td>\n",
       "      <td>0.536</td>\n",
       "      <td>21</td>\n",
       "      <td>1</td>\n",
       "    </tr>\n",
       "    <tr>\n",
       "      <th>...</th>\n",
       "      <td>...</td>\n",
       "      <td>...</td>\n",
       "      <td>...</td>\n",
       "      <td>...</td>\n",
       "      <td>...</td>\n",
       "      <td>...</td>\n",
       "      <td>...</td>\n",
       "      <td>...</td>\n",
       "    </tr>\n",
       "    <tr>\n",
       "      <th>2763</th>\n",
       "      <td>101.0</td>\n",
       "      <td>76.000000</td>\n",
       "      <td>48.000000</td>\n",
       "      <td>180.00000</td>\n",
       "      <td>32.9</td>\n",
       "      <td>0.171</td>\n",
       "      <td>63</td>\n",
       "      <td>10</td>\n",
       "    </tr>\n",
       "    <tr>\n",
       "      <th>2764</th>\n",
       "      <td>122.0</td>\n",
       "      <td>70.000000</td>\n",
       "      <td>27.000000</td>\n",
       "      <td>80.12789</td>\n",
       "      <td>36.8</td>\n",
       "      <td>0.340</td>\n",
       "      <td>27</td>\n",
       "      <td>2</td>\n",
       "    </tr>\n",
       "    <tr>\n",
       "      <th>2765</th>\n",
       "      <td>121.0</td>\n",
       "      <td>72.000000</td>\n",
       "      <td>23.000000</td>\n",
       "      <td>112.00000</td>\n",
       "      <td>26.2</td>\n",
       "      <td>0.245</td>\n",
       "      <td>30</td>\n",
       "      <td>5</td>\n",
       "    </tr>\n",
       "    <tr>\n",
       "      <th>2766</th>\n",
       "      <td>126.0</td>\n",
       "      <td>60.000000</td>\n",
       "      <td>20.824422</td>\n",
       "      <td>80.12789</td>\n",
       "      <td>30.1</td>\n",
       "      <td>0.349</td>\n",
       "      <td>47</td>\n",
       "      <td>1</td>\n",
       "    </tr>\n",
       "    <tr>\n",
       "      <th>2767</th>\n",
       "      <td>93.0</td>\n",
       "      <td>70.000000</td>\n",
       "      <td>31.000000</td>\n",
       "      <td>80.12789</td>\n",
       "      <td>30.4</td>\n",
       "      <td>0.315</td>\n",
       "      <td>23</td>\n",
       "      <td>1</td>\n",
       "    </tr>\n",
       "  </tbody>\n",
       "</table>\n",
       "<p>2768 rows × 8 columns</p>\n",
       "</div>"
      ],
      "text/plain": [
       "      Glucose  BloodPressure  SkinThickness    Insulin   BMI  \\\n",
       "0       138.0      62.000000      35.000000   80.12789  33.6   \n",
       "1        84.0      82.000000      31.000000  125.00000  38.2   \n",
       "2       145.0      69.134393      20.824422   80.12789  44.2   \n",
       "3       135.0      68.000000      42.000000  250.00000  42.3   \n",
       "4       139.0      62.000000      41.000000  480.00000  40.7   \n",
       "...       ...            ...            ...        ...   ...   \n",
       "2763    101.0      76.000000      48.000000  180.00000  32.9   \n",
       "2764    122.0      70.000000      27.000000   80.12789  36.8   \n",
       "2765    121.0      72.000000      23.000000  112.00000  26.2   \n",
       "2766    126.0      60.000000      20.824422   80.12789  30.1   \n",
       "2767     93.0      70.000000      31.000000   80.12789  30.4   \n",
       "\n",
       "      DiabetesPedigreeFunction  Age  Pregnancies  \n",
       "0                        0.127   47            2  \n",
       "1                        0.233   23            0  \n",
       "2                        0.630   31            0  \n",
       "3                        0.365   24            0  \n",
       "4                        0.536   21            1  \n",
       "...                        ...  ...          ...  \n",
       "2763                     0.171   63           10  \n",
       "2764                     0.340   27            2  \n",
       "2765                     0.245   30            5  \n",
       "2766                     0.349   47            1  \n",
       "2767                     0.315   23            1  \n",
       "\n",
       "[2768 rows x 8 columns]"
      ]
     },
     "execution_count": 142,
     "metadata": {},
     "output_type": "execute_result"
    }
   ],
   "source": [
    "dwp['Pregnancies'] = df['pregnancies']\n",
    "dwp"
   ]
  },
  {
   "cell_type": "code",
   "execution_count": 143,
   "id": "d687f37c",
   "metadata": {},
   "outputs": [
    {
     "data": {
      "text/html": [
       "<div>\n",
       "<style scoped>\n",
       "    .dataframe tbody tr th:only-of-type {\n",
       "        vertical-align: middle;\n",
       "    }\n",
       "\n",
       "    .dataframe tbody tr th {\n",
       "        vertical-align: top;\n",
       "    }\n",
       "\n",
       "    .dataframe thead th {\n",
       "        text-align: right;\n",
       "    }\n",
       "</style>\n",
       "<table border=\"1\" class=\"dataframe\">\n",
       "  <thead>\n",
       "    <tr style=\"text-align: right;\">\n",
       "      <th></th>\n",
       "      <th>Glucose</th>\n",
       "      <th>BloodPressure</th>\n",
       "      <th>SkinThickness</th>\n",
       "      <th>Insulin</th>\n",
       "      <th>BMI</th>\n",
       "      <th>DiabetesPedigreeFunction</th>\n",
       "      <th>Age</th>\n",
       "      <th>Pregnancies</th>\n",
       "    </tr>\n",
       "  </thead>\n",
       "  <tbody>\n",
       "    <tr>\n",
       "      <th>Glucose</th>\n",
       "      <td>1.000000</td>\n",
       "      <td>0.205848</td>\n",
       "      <td>0.171384</td>\n",
       "      <td>0.387995</td>\n",
       "      <td>0.232758</td>\n",
       "      <td>0.127798</td>\n",
       "      <td>0.261684</td>\n",
       "      <td>0.123251</td>\n",
       "    </tr>\n",
       "    <tr>\n",
       "      <th>BloodPressure</th>\n",
       "      <td>0.205848</td>\n",
       "      <td>1.000000</td>\n",
       "      <td>0.149149</td>\n",
       "      <td>0.012196</td>\n",
       "      <td>0.265256</td>\n",
       "      <td>0.010991</td>\n",
       "      <td>0.325827</td>\n",
       "      <td>0.202133</td>\n",
       "    </tr>\n",
       "    <tr>\n",
       "      <th>SkinThickness</th>\n",
       "      <td>0.171384</td>\n",
       "      <td>0.149149</td>\n",
       "      <td>1.000000</td>\n",
       "      <td>0.252119</td>\n",
       "      <td>0.524418</td>\n",
       "      <td>0.146746</td>\n",
       "      <td>0.033287</td>\n",
       "      <td>0.023930</td>\n",
       "    </tr>\n",
       "    <tr>\n",
       "      <th>Insulin</th>\n",
       "      <td>0.387995</td>\n",
       "      <td>0.012196</td>\n",
       "      <td>0.252119</td>\n",
       "      <td>1.000000</td>\n",
       "      <td>0.209252</td>\n",
       "      <td>0.160452</td>\n",
       "      <td>0.004692</td>\n",
       "      <td>-0.019633</td>\n",
       "    </tr>\n",
       "    <tr>\n",
       "      <th>BMI</th>\n",
       "      <td>0.232758</td>\n",
       "      <td>0.265256</td>\n",
       "      <td>0.524418</td>\n",
       "      <td>0.209252</td>\n",
       "      <td>1.000000</td>\n",
       "      <td>0.145054</td>\n",
       "      <td>0.020612</td>\n",
       "      <td>0.013967</td>\n",
       "    </tr>\n",
       "    <tr>\n",
       "      <th>DiabetesPedigreeFunction</th>\n",
       "      <td>0.127798</td>\n",
       "      <td>0.010991</td>\n",
       "      <td>0.146746</td>\n",
       "      <td>0.160452</td>\n",
       "      <td>0.145054</td>\n",
       "      <td>1.000000</td>\n",
       "      <td>0.028544</td>\n",
       "      <td>-0.027731</td>\n",
       "    </tr>\n",
       "    <tr>\n",
       "      <th>Age</th>\n",
       "      <td>0.261684</td>\n",
       "      <td>0.325827</td>\n",
       "      <td>0.033287</td>\n",
       "      <td>0.004692</td>\n",
       "      <td>0.020612</td>\n",
       "      <td>0.028544</td>\n",
       "      <td>1.000000</td>\n",
       "      <td>0.540805</td>\n",
       "    </tr>\n",
       "    <tr>\n",
       "      <th>Pregnancies</th>\n",
       "      <td>0.123251</td>\n",
       "      <td>0.202133</td>\n",
       "      <td>0.023930</td>\n",
       "      <td>-0.019633</td>\n",
       "      <td>0.013967</td>\n",
       "      <td>-0.027731</td>\n",
       "      <td>0.540805</td>\n",
       "      <td>1.000000</td>\n",
       "    </tr>\n",
       "  </tbody>\n",
       "</table>\n",
       "</div>"
      ],
      "text/plain": [
       "                           Glucose  BloodPressure  SkinThickness   Insulin  \\\n",
       "Glucose                   1.000000       0.205848       0.171384  0.387995   \n",
       "BloodPressure             0.205848       1.000000       0.149149  0.012196   \n",
       "SkinThickness             0.171384       0.149149       1.000000  0.252119   \n",
       "Insulin                   0.387995       0.012196       0.252119  1.000000   \n",
       "BMI                       0.232758       0.265256       0.524418  0.209252   \n",
       "DiabetesPedigreeFunction  0.127798       0.010991       0.146746  0.160452   \n",
       "Age                       0.261684       0.325827       0.033287  0.004692   \n",
       "Pregnancies               0.123251       0.202133       0.023930 -0.019633   \n",
       "\n",
       "                               BMI  DiabetesPedigreeFunction       Age  \\\n",
       "Glucose                   0.232758                  0.127798  0.261684   \n",
       "BloodPressure             0.265256                  0.010991  0.325827   \n",
       "SkinThickness             0.524418                  0.146746  0.033287   \n",
       "Insulin                   0.209252                  0.160452  0.004692   \n",
       "BMI                       1.000000                  0.145054  0.020612   \n",
       "DiabetesPedigreeFunction  0.145054                  1.000000  0.028544   \n",
       "Age                       0.020612                  0.028544  1.000000   \n",
       "Pregnancies               0.013967                 -0.027731  0.540805   \n",
       "\n",
       "                          Pregnancies  \n",
       "Glucose                      0.123251  \n",
       "BloodPressure                0.202133  \n",
       "SkinThickness                0.023930  \n",
       "Insulin                     -0.019633  \n",
       "BMI                          0.013967  \n",
       "DiabetesPedigreeFunction    -0.027731  \n",
       "Age                          0.540805  \n",
       "Pregnancies                  1.000000  "
      ]
     },
     "execution_count": 143,
     "metadata": {},
     "output_type": "execute_result"
    }
   ],
   "source": [
    "dwp.corr()"
   ]
  },
  {
   "cell_type": "code",
   "execution_count": 144,
   "id": "fc6e5fa1",
   "metadata": {},
   "outputs": [
    {
     "data": {
      "text/plain": [
       "0       1\n",
       "1       0\n",
       "2       1\n",
       "3       1\n",
       "4       0\n",
       "       ..\n",
       "2763    0\n",
       "2764    0\n",
       "2765    0\n",
       "2766    1\n",
       "2767    0\n",
       "Name: Outcome, Length: 2768, dtype: int64"
      ]
     },
     "execution_count": 144,
     "metadata": {},
     "output_type": "execute_result"
    }
   ],
   "source": [
    "target = datasets['Outcome']\n",
    "target"
   ]
  },
  {
   "cell_type": "code",
   "execution_count": 187,
   "id": "914578ee",
   "metadata": {},
   "outputs": [],
   "source": []
  },
  {
   "cell_type": "code",
   "execution_count": 175,
   "id": "db7082eb",
   "metadata": {},
   "outputs": [
    {
     "data": {
      "text/plain": [
       "array([[0., 0., 0., 0., 0., 0., 0., 0.]])"
      ]
     },
     "execution_count": 175,
     "metadata": {},
     "output_type": "execute_result"
    }
   ],
   "source": []
  },
  {
   "cell_type": "code",
   "execution_count": 177,
   "id": "7ffb0ff6",
   "metadata": {
    "scrolled": true
   },
   "outputs": [
    {
     "data": {
      "text/plain": [
       "array([[ 0.5282705 , -0.8543249 ,  0.83139365, -0.42938276,  0.14217913,\n",
       "        -1.05706998,  1.17772008, -0.52442655],\n",
       "       [-1.24248159,  0.81160539,  0.4236958 ,  0.07105703,  0.78985235,\n",
       "        -0.73152716, -0.86047875, -1.12625601],\n",
       "       [ 0.75781244, -0.26005482, -0.61344451, -0.42938276,  1.6346435 ,\n",
       "         0.48772287, -0.18107914, -1.12625601],\n",
       "       [ 0.42989538, -0.35454581,  1.54486488,  1.46512952,  1.3671263 ,\n",
       "        -0.3261342 , -0.7755538 , -1.12625601],\n",
       "       [ 0.56106221, -0.8543249 ,  1.44294042,  4.03022291,  1.14184866,\n",
       "         0.19903394, -1.03032866, -0.82534128],\n",
       "       [ 1.67598019,  0.47841934,  0.52562027,  1.63241822,  1.95848011,\n",
       "         2.11236584,  2.11189455, -1.12625601],\n",
       "       [-0.75060601, -0.02135975, -1.00324666, -0.42938276, -0.98420907,\n",
       "        -0.54418647, -0.435854  ,  0.07740292],\n",
       "       [ 2.364606  ,  0.64501236, -0.61344451, -0.42938276, -0.91380981,\n",
       "         0.24510132,  2.87621911,  1.28106186],\n",
       "       [-1.27527329, -0.60443535,  0.11792242, -0.58694519,  0.59273441,\n",
       "         0.48465171, -0.7755538 , -0.52442655],\n",
       "       [-1.07852306,  1.47797751,  0.32177134, -0.42938276,  0.12809928,\n",
       "        -0.55032879,  0.75309532, -0.52442655]])"
      ]
     },
     "execution_count": 177,
     "metadata": {},
     "output_type": "execute_result"
    }
   ],
   "source": [
    "from sklearn.preprocessing import StandardScaler\n",
    "\n",
    "scaler = StandardScaler()\n",
    "processed_x = scaler.fit_transform(dwp)\n",
    "processed_x[:10]"
   ]
  },
  {
   "cell_type": "code",
   "execution_count": null,
   "id": "a40480a8",
   "metadata": {},
   "outputs": [],
   "source": [
    "lst =[ 130, 50 , 39 ,120, 45 , 0.45 ,19 ] "
   ]
  },
  {
   "cell_type": "code",
   "execution_count": 188,
   "id": "48910516",
   "metadata": {},
   "outputs": [
    {
     "data": {
      "text/plain": [
       "array([ 0.26588882, -1.8535482 ,  1.23886768,  0.01529136,  1.74696683,\n",
       "       -0.06507528, -1.19996171])"
      ]
     },
     "execution_count": 188,
     "metadata": {},
     "output_type": "execute_result"
    }
   ],
   "source": [
    "mean_values = [121.890118, 72.25643, 26.843041, 118.628647, 32.590194, 0.471193, 33.132225,3.742775]\n",
    "std_values = [30.501027, 12.007473, 9.81296, 89.681553, 7.10363, 0.325669, 11.77723,3.323801]\n",
    "mean_values = np.array(mean_values)\n",
    "std_values = np.array(std_values)\n",
    "scaled_values = (np.array(lst) - mean_values)/std_values\n",
    "scaled_values\n"
   ]
  },
  {
   "cell_type": "code",
   "execution_count": 146,
   "id": "9087761d",
   "metadata": {},
   "outputs": [],
   "source": [
    "from sklearn.model_selection import train_test_split\n",
    "xtrain, xtest,ytrain, ytest = train_test_split(processed_x, target, stratify=target, random_state=30)"
   ]
  },
  {
   "cell_type": "code",
   "execution_count": 147,
   "id": "d62409ce",
   "metadata": {},
   "outputs": [
    {
     "data": {
      "text/plain": [
       "(2076, 8)"
      ]
     },
     "execution_count": 147,
     "metadata": {},
     "output_type": "execute_result"
    }
   ],
   "source": [
    "xtrain.shape"
   ]
  },
  {
   "cell_type": "code",
   "execution_count": 148,
   "id": "fbadeddd",
   "metadata": {},
   "outputs": [
    {
     "data": {
      "text/plain": [
       "(692, 8)"
      ]
     },
     "execution_count": 148,
     "metadata": {},
     "output_type": "execute_result"
    }
   ],
   "source": [
    "xtest.shape"
   ]
  },
  {
   "cell_type": "code",
   "execution_count": 149,
   "id": "2286aa4e",
   "metadata": {},
   "outputs": [
    {
     "data": {
      "text/plain": [
       "0    1362\n",
       "1     714\n",
       "Name: Outcome, dtype: int64"
      ]
     },
     "execution_count": 149,
     "metadata": {},
     "output_type": "execute_result"
    }
   ],
   "source": [
    "ytrain.value_counts()"
   ]
  },
  {
   "cell_type": "markdown",
   "id": "5d12666b",
   "metadata": {},
   "source": [
    "# Random forest bagging model"
   ]
  },
  {
   "cell_type": "code",
   "execution_count": 150,
   "id": "6eee1776",
   "metadata": {},
   "outputs": [],
   "source": [
    "#import bagging and random forest classifier\n",
    "from sklearn.ensemble import BaggingClassifier , RandomForestClassifier\n",
    "\n",
    "# bagging classifier with 3 decision tree\n",
    "bag_clf = BaggingClassifier(base_estimator=RandomForestClassifier(), n_estimators=3, bootstrap=True, random_state=0)\n",
    "\n",
    "# fit on train data\n",
    "bag_clf.fit(xtrain, ytrain)\n",
    "\n",
    "# predict on test data\n",
    "y_pred = bag_clf.predict(xtest)"
   ]
  },
  {
   "cell_type": "code",
   "execution_count": 189,
   "id": "f7d3f01f",
   "metadata": {},
   "outputs": [
    {
     "data": {
      "text/plain": [
       "array([1], dtype=int64)"
      ]
     },
     "execution_count": 189,
     "metadata": {},
     "output_type": "execute_result"
    }
   ],
   "source": [
    "#Testing\n",
    "bag_clf.predict([[ 0.26588882, -1.8535482 ,  1.23886768,  0.01529136,  1.74696683,\n",
    "       -0.06507528, -1.19996171, -1.12625601]])"
   ]
  },
  {
   "cell_type": "code",
   "execution_count": 152,
   "id": "64c1398c",
   "metadata": {},
   "outputs": [],
   "source": [
    "# import accuracy score\n",
    "from sklearn.metrics import accuracy_score, precision_score, recall_score, f1_score\n",
    "\n",
    "# check accuracy score\n",
    "accuracy = accuracy_score(ytest, y_pred)\n",
    "precision = precision_score(ytest, y_pred)\n",
    "recall = recall_score(ytest, y_pred)\n",
    "f1 = f1_score(ytest, y_pred)\n",
    "\n",
    "#calc AUROC\n",
    "from sklearn.metrics import roc_auc_score\n",
    "auc = roc_auc_score(ytest, y_pred)"
   ]
  },
  {
   "cell_type": "code",
   "execution_count": 153,
   "id": "3caf301a",
   "metadata": {},
   "outputs": [
    {
     "name": "stdout",
     "output_type": "stream",
     "text": [
      "Accuracy:  0.9884393063583815\n",
      "Precision:  0.9914529914529915\n",
      "Recall:  0.9747899159663865\n",
      "F1 Score:  0.983050847457627\n"
     ]
    }
   ],
   "source": [
    "print(\"Accuracy: \", accuracy)\n",
    "print(\"Precision: \", precision)\n",
    "print(\"Recall: \", recall)\n",
    "print(\"F1 Score: \", f1)"
   ]
  },
  {
   "cell_type": "code",
   "execution_count": 154,
   "id": "3b4d88d1",
   "metadata": {},
   "outputs": [
    {
     "data": {
      "image/png": "[encoded data removed]",
      "text/plain": [
       "<Figure size 432x288 with 1 Axes>"
      ]
     },
     "metadata": {
      "needs_background": "light"
     },
     "output_type": "display_data"
    },
    {
     "name": "stdout",
     "output_type": "stream",
     "text": [
      "Area = 0.9981490393514233\n"
     ]
    }
   ],
   "source": [
    "# draw the roc curve\n",
    "from sklearn.metrics import roc_curve, auc\n",
    "import matplotlib.pyplot as plt\n",
    "\n",
    "# predict probabilities\n",
    "probs = bag_clf.predict_proba(xtest)\n",
    "\n",
    "# keep probabilities for the positive outcome only\n",
    "probs = probs[:, 1]\n",
    "\n",
    "# calculate roc curve\n",
    "fpr, tpr, thresholds = roc_curve(ytest, probs)\n",
    "roc_auc = auc(fpr, tpr)\n",
    "\n",
    "plt.plot([0, 1], [0, 1], linestyle='--')\n",
    "\n",
    "# plot the roc curve for the model\n",
    "plt.plot(fpr, tpr, marker='.')\n",
    "plt.xlabel('False Positive Rate')\n",
    "plt.ylabel('True Positive Rate')\n",
    "plt.show()\n",
    "print(\"Area =\" ,roc_auc)"
   ]
  },
  {
   "cell_type": "code",
   "execution_count": 155,
   "id": "5ac46ba9",
   "metadata": {},
   "outputs": [
    {
     "name": "stdout",
     "output_type": "stream",
     "text": [
      "[[452   2]\n",
      " [  6 232]]\n"
     ]
    }
   ],
   "source": [
    "# import confusion matrix\n",
    "from sklearn.metrics import confusion_matrix\n",
    "\n",
    "# print confusion matrix\n",
    "cm = confusion_matrix(ytest, y_pred)\n",
    "print(cm)\n"
   ]
  },
  {
   "cell_type": "code",
   "execution_count": 156,
   "id": "0bb2daff",
   "metadata": {},
   "outputs": [
    {
     "data": {
      "image/png": "[encoded data removed]",
      "text/plain": [
       "<Figure size 432x288 with 2 Axes>"
      ]
     },
     "metadata": {
      "needs_background": "light"
     },
     "output_type": "display_data"
    }
   ],
   "source": [
    "# draw confusion matrix\n",
    "import seaborn as sns\n",
    "sns.heatmap(pd.DataFrame(cm), annot=True, cmap=\"YlGnBu\" ,fmt='g')\n",
    "plt.tight_layout()\n",
    "plt.title('Confusion matrix', y=1.1)\n",
    "plt.ylabel('Actual label')\n",
    "plt.xlabel('Predicted label')\n",
    "plt.show()"
   ]
  },
  {
   "cell_type": "markdown",
   "id": "57f51428",
   "metadata": {},
   "source": [
    "# SVM bagging model"
   ]
  },
  {
   "cell_type": "code",
   "execution_count": 157,
   "id": "5a7316e0",
   "metadata": {},
   "outputs": [],
   "source": [
    "from sklearn.svm import SVC\n",
    "\n",
    "clf = BaggingClassifier(base_estimator=SVC(),\n",
    "                         n_estimators=10, random_state=5).fit(xtrain, ytrain)\n",
    "# predict on test data\n",
    "svm_pred = clf.predict(xtest)"
   ]
  },
  {
   "cell_type": "code",
   "execution_count": 158,
   "id": "09d19e85",
   "metadata": {},
   "outputs": [],
   "source": [
    "\n",
    "# check accuracy score\n",
    "Saccuracy = accuracy_score(ytest, svm_pred)\n",
    "Sprecision = precision_score(ytest, svm_pred)\n",
    "Srecall = recall_score(ytest, svm_pred)\n",
    "Sf1 = f1_score(ytest, svm_pred)\n",
    "\n",
    "#calc AUROC\n",
    "Sauc = roc_auc_score(ytest, svm_pred)"
   ]
  },
  {
   "cell_type": "code",
   "execution_count": 159,
   "id": "aec1fbf0",
   "metadata": {},
   "outputs": [
    {
     "name": "stdout",
     "output_type": "stream",
     "text": [
      "Accuracy:  0.8554913294797688\n",
      "Precision:  0.845\n",
      "Recall:  0.7100840336134454\n",
      "F1 Score:  0.7716894977168951\n"
     ]
    }
   ],
   "source": [
    "print(\"Accuracy: \", Saccuracy)\n",
    "print(\"Precision: \", Sprecision)\n",
    "print(\"Recall: \", Srecall)\n",
    "print(\"F1 Score: \", Sf1)"
   ]
  },
  {
   "cell_type": "code",
   "execution_count": 160,
   "id": "90d9e10d",
   "metadata": {},
   "outputs": [
    {
     "data": {
      "image/png": "[encoded data removed]",
      "text/plain": [
       "<Figure size 432x288 with 1 Axes>"
      ]
     },
     "metadata": {
      "needs_background": "light"
     },
     "output_type": "display_data"
    },
    {
     "name": "stdout",
     "output_type": "stream",
     "text": [
      "Area = 0.8743660459778625\n"
     ]
    }
   ],
   "source": [
    "# draw the roc curve\n",
    "from sklearn.metrics import roc_curve, auc\n",
    "# predict probabilities\n",
    "probs = clf.predict_proba(xtest)\n",
    "\n",
    "# keep probabilities for the positive outcome only\n",
    "probs = probs[:, 1]\n",
    "\n",
    "# calculate roc curve\n",
    "fpr, tpr, thresholds = roc_curve(ytest, probs)\n",
    "Sroc_auc = auc(fpr, tpr)\n",
    "\n",
    "plt.plot([0, 1], [0, 1], linestyle='--')\n",
    "\n",
    "# plot the roc curve for the model\n",
    "plt.plot(fpr, tpr, marker='.')\n",
    "plt.xlabel('False Positive Rate')\n",
    "plt.ylabel('True Positive Rate')\n",
    "plt.show()\n",
    "print(\"Area =\" ,Sroc_auc)"
   ]
  },
  {
   "cell_type": "code",
   "execution_count": 161,
   "id": "0d1da116",
   "metadata": {},
   "outputs": [
    {
     "name": "stdout",
     "output_type": "stream",
     "text": [
      "[[423  31]\n",
      " [ 69 169]]\n"
     ]
    }
   ],
   "source": [
    "\n",
    "\n",
    "# print confusion matrix\n",
    "cm = confusion_matrix(ytest, svm_pred)\n",
    "print(cm)"
   ]
  },
  {
   "cell_type": "code",
   "execution_count": 162,
   "id": "bd292d37",
   "metadata": {},
   "outputs": [
    {
     "data": {
      "image/png": "[encoded data removed]",
      "text/plain": [
       "<Figure size 432x288 with 2 Axes>"
      ]
     },
     "metadata": {
      "needs_background": "light"
     },
     "output_type": "display_data"
    }
   ],
   "source": [
    "# draw confusion matrix\n",
    "import seaborn as sns\n",
    "sns.heatmap(pd.DataFrame(cm), annot=True, cmap=\"YlGnBu\" ,fmt='g')\n",
    "plt.tight_layout()\n",
    "plt.title('Confusion matrix', y=1.1)\n",
    "plt.ylabel('Actual label')\n",
    "plt.xlabel('Predicted label')\n",
    "plt.show()"
   ]
  },
  {
   "cell_type": "markdown",
   "id": "61c964c0",
   "metadata": {},
   "source": [
    "# Logistic Bagger "
   ]
  },
  {
   "cell_type": "code",
   "execution_count": 163,
   "id": "e5fff170",
   "metadata": {},
   "outputs": [],
   "source": [
    "from sklearn.linear_model import LogisticRegression\n",
    "\n",
    "log_clf = BaggingClassifier(base_estimator=LogisticRegression(),\n",
    "                         n_estimators=10, random_state=5).fit(xtrain, ytrain)\n",
    "# predict on test data\n",
    "log_pred = log_clf.predict(xtest)"
   ]
  },
  {
   "cell_type": "code",
   "execution_count": 164,
   "id": "fd475752",
   "metadata": {},
   "outputs": [],
   "source": [
    "\n",
    "# check accuracy score\n",
    "Laccuracy = accuracy_score(ytest, log_pred)\n",
    "Lprecision = precision_score(ytest, log_pred)\n",
    "Lrecall = recall_score(ytest, log_pred)\n",
    "Lf1 = f1_score(ytest, log_pred)\n",
    "\n",
    "#calc AUROC\n",
    "Lauc = roc_auc_score(ytest, log_pred)"
   ]
  },
  {
   "cell_type": "code",
   "execution_count": 165,
   "id": "0d32e2ae",
   "metadata": {},
   "outputs": [
    {
     "name": "stdout",
     "output_type": "stream",
     "text": [
      "Accuracy:  0.7832369942196532\n",
      "Precision:  0.7417582417582418\n",
      "Recall:  0.5672268907563025\n",
      "F1 Score:  0.6428571428571429\n"
     ]
    }
   ],
   "source": [
    "print(\"Accuracy: \", Laccuracy)\n",
    "print(\"Precision: \", Lprecision)\n",
    "print(\"Recall: \", Lrecall)\n",
    "print(\"F1 Score: \", Lf1)"
   ]
  },
  {
   "cell_type": "code",
   "execution_count": 166,
   "id": "68fdad4e",
   "metadata": {},
   "outputs": [
    {
     "data": {
      "image/png": "[encoded data removed]",
      "text/plain": [
       "<Figure size 432x288 with 1 Axes>"
      ]
     },
     "metadata": {
      "needs_background": "light"
     },
     "output_type": "display_data"
    },
    {
     "name": "stdout",
     "output_type": "stream",
     "text": [
      "Area = 0.8359215933069264\n"
     ]
    }
   ],
   "source": [
    "# draw the roc curve\n",
    "from sklearn.metrics import roc_curve, auc\n",
    "# predict probabilities\n",
    "probs = log_clf.predict_proba(xtest)\n",
    "\n",
    "# keep probabilities for the positive outcome only\n",
    "probs = probs[:, 1]\n",
    "\n",
    "# calculate roc curve\n",
    "fpr, tpr, thresholds = roc_curve(ytest, probs)\n",
    "Sroc_auc = auc(fpr, tpr)\n",
    "\n",
    "plt.plot([0, 1], [0, 1], linestyle='--')\n",
    "\n",
    "# plot the roc curve for the model\n",
    "plt.plot(fpr, tpr, marker='.')\n",
    "plt.xlabel('False Positive Rate')\n",
    "plt.ylabel('True Positive Rate')\n",
    "plt.show()\n",
    "print(\"Area =\" ,Sroc_auc)"
   ]
  },
  {
   "cell_type": "code",
   "execution_count": 167,
   "id": "88c6f316",
   "metadata": {},
   "outputs": [
    {
     "name": "stdout",
     "output_type": "stream",
     "text": [
      "[[407  47]\n",
      " [103 135]]\n"
     ]
    }
   ],
   "source": [
    "\n",
    "# print confusion matrix\n",
    "cm = confusion_matrix(ytest, log_pred)\n",
    "print(cm)"
   ]
  },
  {
   "cell_type": "code",
   "execution_count": 168,
   "id": "a664c6a6",
   "metadata": {},
   "outputs": [
    {
     "data": {
      "image/png": "[encoded data removed]",
      "text/plain": [
       "<Figure size 432x288 with 2 Axes>"
      ]
     },
     "metadata": {
      "needs_background": "light"
     },
     "output_type": "display_data"
    }
   ],
   "source": [
    "# draw confusion matrix\n",
    "import seaborn as sns\n",
    "sns.heatmap(pd.DataFrame(cm), annot=True, cmap=\"YlGnBu\" ,fmt='g')\n",
    "plt.tight_layout()\n",
    "plt.title('Confusion matrix', y=1.1)\n",
    "plt.ylabel('Actual label')\n",
    "plt.xlabel('Predicted label')\n",
    "plt.show()"
   ]
  },
  {
   "cell_type": "markdown",
   "id": "abd5dbba",
   "metadata": {},
   "source": [
    "# downloading models "
   ]
  },
  {
   "cell_type": "code",
   "execution_count": 193,
   "id": "66a4d5e5",
   "metadata": {},
   "outputs": [],
   "source": [
    "import pickle"
   ]
  },
  {
   "cell_type": "code",
   "execution_count": 194,
   "id": "f0956d03",
   "metadata": {},
   "outputs": [],
   "source": [
    "\n",
    "\n",
    "\n",
    "with open(\"RandomForestModel.pkl\", \"wb\") as f:\n",
    "    pickle.dump(bag_clf, f)  # save the model object to a file\n",
    "    \n",
    "    \n",
    "with open(\"SvmModel.pkl\", \"wb\") as f:\n",
    "    pickle.dump(clf, f)  # save the model object to a file\n",
    "\n",
    "    \n",
    "with open(\"LogisticModel.pkl\", \"wb\") as f:\n",
    "    pickle.dump(log_clf, f)  # save the model object to a file"
   ]
  },
  {
   "cell_type": "code",
   "execution_count": 196,
   "id": "579eb43e",
   "metadata": {},
   "outputs": [
    {
     "data": {
      "text/plain": [
       "array([1], dtype=int64)"
      ]
     },
     "execution_count": 196,
     "metadata": {},
     "output_type": "execute_result"
    }
   ],
   "source": [
    "with open(\"RandomForestModel.pkl\", \"rb\") as f:\n",
    "    model = pickle.load(f)  # load the model object from the file\n",
    "    \n",
    "model.predict([[ 0.26588882, -1.8535482 ,  1.23886768,  0.01529136,  1.74696683,\n",
    "       -0.06507528, -1.19996171, -1.12625601]])"
   ]
  },
  {
   "cell_type": "code",
   "execution_count": 198,
   "id": "dada6a1f",
   "metadata": {},
   "outputs": [],
   "source": [
    "mean_values = [121.890118, 72.25643, 26.843041, 118.628647, 32.590194, 0.471193, 33.132225,3.742775]\n",
    "std_values = [30.501027, 12.007473, 9.81296, 89.681553, 7.10363, 0.325669, 11.77723,3.323801]\n",
    "\n",
    "mean_std = {\"mean\":mean_values, \"sd\":std_values }\n",
    "\n",
    "\n",
    "with open(\"Mean_std.pkl\", \"wb\") as f:\n",
    "    pickle.dump(mean_std, f)  \n"
   ]
  },
  {
   "cell_type": "code",
   "execution_count": null,
   "id": "2f45b5d6",
   "metadata": {},
   "outputs": [],
   "source": [
    " 3 ,4 ,5,56,6,6,6,6"
   ]
  }
 ],
 "metadata": {
  "kernelspec": {
   "display_name": "Python 3 (ipykernel)",
   "language": "python",
   "name": "python3"
  },
  "language_info": {
   "codemirror_mode": {
    "name": "ipython",
    "version": 3
   },
   "file_extension": ".py",
   "mimetype": "text/x-python",
   "name": "python",
   "nbconvert_exporter": "python",
   "pygments_lexer": "ipython3",
   "version": "3.9.12"
  }
 },
 "nbformat": 4,
 "nbformat_minor": 5
}
